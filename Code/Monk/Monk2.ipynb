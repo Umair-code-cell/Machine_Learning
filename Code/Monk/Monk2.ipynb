{
 "cells": [
  {
   "cell_type": "code",
   "execution_count": 1,
   "metadata": {},
   "outputs": [],
   "source": [
    "import numpy as np\n",
    "from numpy import loadtxt\n",
    "import matplotlib.pyplot as plt\n",
    "import warnings\n",
    "from sklearn.model_selection import train_test_split\n",
    "from sklearn.metrics import mean_squared_error\n",
    "import pandas as pd"
   ]
  },
  {
   "cell_type": "code",
   "execution_count": 2,
   "metadata": {},
   "outputs": [],
   "source": [
    "warnings.simplefilter(\"ignore\")"
   ]
  },
  {
   "cell_type": "code",
   "execution_count": 3,
   "metadata": {},
   "outputs": [],
   "source": [
    "np.random.seed(1)"
   ]
  },
  {
   "cell_type": "code",
   "execution_count": 4,
   "metadata": {},
   "outputs": [
    {
     "name": "stderr",
     "output_type": "stream",
     "text": [
      "Using TensorFlow backend.\n"
     ]
    }
   ],
   "source": [
    "from keras.models import Sequential\n",
    "from keras.callbacks import Callback\n",
    "from keras.layers import Dense\n",
    "from keras.regularizers import l2\n",
    "from keras.optimizers import SGD\n",
    "from keras.callbacks import EarlyStopping, ModelCheckpoint\n",
    "from keras.initializers import RandomUniform"
   ]
  },
  {
   "cell_type": "code",
   "execution_count": 5,
   "metadata": {},
   "outputs": [],
   "source": [
    "train2 = loadtxt(\"/home/umair/Desktop/Data Science and BI/machine learning/Monk/monks-2.train\",\n",
    "                         delimiter=' ', usecols=range(1, 8))\n",
    "test2 = loadtxt(\"/home/umair/Desktop/Data Science and BI/machine learning/Monk/monks-2.test',\n",
    "                        delimiter=' ', usecols=range(1, 8))\n"
   ]
  },
  {
   "cell_type": "code",
   "execution_count": 6,
   "metadata": {},
   "outputs": [],
   "source": [
    "X_train2=train2[:, 1:7]\n",
    "y_train2=train2[:, 0]\n",
    "\n",
    "X_test2=test2[:, 1:7]\n",
    "y_test2=test2[:, 0]"
   ]
  },
  {
   "cell_type": "code",
   "execution_count": 7,
   "metadata": {},
   "outputs": [],
   "source": [
    "from sklearn.preprocessing import OneHotEncoder"
   ]
  },
  {
   "cell_type": "code",
   "execution_count": 8,
   "metadata": {},
   "outputs": [],
   "source": [
    "enc=OneHotEncoder()"
   ]
  },
  {
   "cell_type": "code",
   "execution_count": 9,
   "metadata": {},
   "outputs": [],
   "source": [
    "X_train2=enc.fit_transform(X_train2).toarray()\n",
    "\n",
    "X_test2=enc.fit_transform(X_test2).toarray()"
   ]
  },
  {
   "cell_type": "code",
   "execution_count": 10,
   "metadata": {},
   "outputs": [],
   "source": [
    "def create_modelCV(lr=0.1, mom=0.1, act='relu'):\n",
    "    # create model\n",
    "    model = Sequential()\n",
    "    model.add(Dense(4, input_dim=17, kernel_initializer=RandomUniform(minval=-0.1, maxval=0.1, seed=1), \n",
    "                    activation=act,\n",
    "                   kernel_regularizer=l2(0.0001)))\n",
    "    model.add(Dense(1, activation='sigmoid'))\n",
    "    # Compile model\n",
    "    model.compile(loss='mean_squared_error', metrics=['accuracy'], optimizer= SGD(lr=lr, momentum=mom, nesterov=False))\n",
    "    return model"
   ]
  },
  {
   "cell_type": "code",
   "execution_count": 11,
   "metadata": {},
   "outputs": [
    {
     "name": "stdout",
     "output_type": "stream",
     "text": [
      "===================================\n",
      "WARNING:tensorflow:From /opt/anaconda3/lib/python3.7/site-packages/tensorflow/python/ops/resource_variable_ops.py:435: colocate_with (from tensorflow.python.framework.ops) is deprecated and will be removed in a future version.\n",
      "Instructions for updating:\n",
      "Colocations handled automatically by placer.\n",
      "WARNING:tensorflow:From /opt/anaconda3/lib/python3.7/site-packages/tensorflow/python/ops/math_ops.py:3066: to_int32 (from tensorflow.python.ops.math_ops) is deprecated and will be removed in a future version.\n",
      "Instructions for updating:\n",
      "Use tf.cast instead.\n",
      "Epoch 1/100\n",
      "169/169 [==============================] - 0s 543us/step - loss: 0.2477 - accuracy: 0.5740\n",
      "Epoch 2/100\n",
      "169/169 [==============================] - 0s 162us/step - loss: 0.2394 - accuracy: 0.6213\n",
      "Epoch 3/100\n",
      "169/169 [==============================] - 0s 138us/step - loss: 0.2362 - accuracy: 0.6213\n",
      "Epoch 4/100\n",
      "169/169 [==============================] - 0s 127us/step - loss: 0.2344 - accuracy: 0.6213\n",
      "Epoch 5/100\n",
      "169/169 [==============================] - 0s 123us/step - loss: 0.2340 - accuracy: 0.6213\n",
      "Epoch 6/100\n",
      "169/169 [==============================] - 0s 90us/step - loss: 0.2333 - accuracy: 0.6213\n",
      "Epoch 7/100\n",
      "169/169 [==============================] - 0s 112us/step - loss: 0.2310 - accuracy: 0.6213\n",
      "Epoch 8/100\n",
      "169/169 [==============================] - 0s 106us/step - loss: 0.2298 - accuracy: 0.6213\n",
      "Epoch 9/100\n",
      "169/169 [==============================] - 0s 103us/step - loss: 0.2294 - accuracy: 0.6391\n",
      "Epoch 10/100\n",
      "169/169 [==============================] - 0s 112us/step - loss: 0.2273 - accuracy: 0.6272\n",
      "Epoch 11/100\n",
      "169/169 [==============================] - 0s 102us/step - loss: 0.2268 - accuracy: 0.6213\n",
      "Epoch 12/100\n",
      "169/169 [==============================] - 0s 119us/step - loss: 0.2236 - accuracy: 0.6331\n",
      "Epoch 13/100\n",
      "169/169 [==============================] - 0s 92us/step - loss: 0.2218 - accuracy: 0.6391\n",
      "Epoch 14/100\n",
      "169/169 [==============================] - 0s 111us/step - loss: 0.2198 - accuracy: 0.6568\n",
      "Epoch 15/100\n",
      "169/169 [==============================] - 0s 95us/step - loss: 0.2182 - accuracy: 0.6331\n",
      "Epoch 16/100\n",
      "169/169 [==============================] - 0s 97us/step - loss: 0.2181 - accuracy: 0.6627\n",
      "Epoch 17/100\n",
      "169/169 [==============================] - 0s 92us/step - loss: 0.2145 - accuracy: 0.6805\n",
      "Epoch 18/100\n",
      "169/169 [==============================] - 0s 97us/step - loss: 0.2108 - accuracy: 0.6686\n",
      "Epoch 19/100\n",
      "169/169 [==============================] - 0s 113us/step - loss: 0.2096 - accuracy: 0.6746\n",
      "Epoch 20/100\n",
      "169/169 [==============================] - 0s 120us/step - loss: 0.2066 - accuracy: 0.7160\n",
      "Epoch 21/100\n",
      "169/169 [==============================] - 0s 80us/step - loss: 0.2045 - accuracy: 0.7101\n",
      "Epoch 22/100\n",
      "169/169 [==============================] - 0s 123us/step - loss: 0.2020 - accuracy: 0.6982\n",
      "Epoch 23/100\n",
      "169/169 [==============================] - 0s 118us/step - loss: 0.1979 - accuracy: 0.7337\n",
      "Epoch 24/100\n",
      "169/169 [==============================] - 0s 106us/step - loss: 0.1957 - accuracy: 0.7515\n",
      "Epoch 25/100\n",
      "169/169 [==============================] - 0s 106us/step - loss: 0.1924 - accuracy: 0.7515\n",
      "Epoch 26/100\n",
      "169/169 [==============================] - 0s 66us/step - loss: 0.1951 - accuracy: 0.7515\n",
      "Epoch 27/100\n",
      "169/169 [==============================] - 0s 77us/step - loss: 0.1882 - accuracy: 0.7633\n",
      "Epoch 28/100\n",
      "169/169 [==============================] - 0s 88us/step - loss: 0.1859 - accuracy: 0.7692\n",
      "Epoch 29/100\n",
      "169/169 [==============================] - 0s 82us/step - loss: 0.1809 - accuracy: 0.8107\n",
      "Epoch 30/100\n",
      "169/169 [==============================] - 0s 80us/step - loss: 0.1792 - accuracy: 0.8107\n",
      "Epoch 31/100\n",
      "169/169 [==============================] - 0s 83us/step - loss: 0.1784 - accuracy: 0.8047\n",
      "Epoch 32/100\n",
      "169/169 [==============================] - 0s 88us/step - loss: 0.1749 - accuracy: 0.8166\n",
      "Epoch 33/100\n",
      "169/169 [==============================] - 0s 97us/step - loss: 0.1724 - accuracy: 0.8343\n",
      "Epoch 34/100\n",
      "169/169 [==============================] - 0s 116us/step - loss: 0.1713 - accuracy: 0.8225\n",
      "Epoch 35/100\n",
      "169/169 [==============================] - 0s 73us/step - loss: 0.1687 - accuracy: 0.8225\n",
      "Epoch 36/100\n",
      "169/169 [==============================] - 0s 111us/step - loss: 0.1652 - accuracy: 0.8343\n",
      "Epoch 37/100\n",
      "169/169 [==============================] - 0s 106us/step - loss: 0.1649 - accuracy: 0.8225\n",
      "Epoch 38/100\n",
      "169/169 [==============================] - 0s 88us/step - loss: 0.1616 - accuracy: 0.8343\n",
      "Epoch 39/100\n",
      "169/169 [==============================] - 0s 121us/step - loss: 0.1602 - accuracy: 0.8225\n",
      "Epoch 40/100\n",
      "169/169 [==============================] - 0s 106us/step - loss: 0.1581 - accuracy: 0.8343\n",
      "Epoch 41/100\n",
      "169/169 [==============================] - 0s 126us/step - loss: 0.1574 - accuracy: 0.8402\n",
      "Epoch 42/100\n",
      "169/169 [==============================] - 0s 98us/step - loss: 0.1552 - accuracy: 0.8343\n",
      "Epoch 43/100\n",
      "169/169 [==============================] - 0s 86us/step - loss: 0.1532 - accuracy: 0.8402\n",
      "Epoch 44/100\n",
      "169/169 [==============================] - 0s 90us/step - loss: 0.1521 - accuracy: 0.8402\n",
      "Epoch 45/100\n",
      "169/169 [==============================] - 0s 75us/step - loss: 0.1497 - accuracy: 0.8402\n",
      "Epoch 46/100\n",
      "169/169 [==============================] - 0s 81us/step - loss: 0.1499 - accuracy: 0.8402\n",
      "Epoch 47/100\n",
      "169/169 [==============================] - 0s 109us/step - loss: 0.1468 - accuracy: 0.8343\n",
      "Epoch 48/100\n",
      "169/169 [==============================] - 0s 86us/step - loss: 0.1451 - accuracy: 0.8462\n",
      "Epoch 49/100\n",
      "169/169 [==============================] - 0s 104us/step - loss: 0.1447 - accuracy: 0.8402\n",
      "Epoch 50/100\n",
      "169/169 [==============================] - 0s 86us/step - loss: 0.1416 - accuracy: 0.8462\n",
      "Epoch 51/100\n",
      "169/169 [==============================] - 0s 86us/step - loss: 0.1402 - accuracy: 0.8402\n",
      "Epoch 52/100\n",
      "169/169 [==============================] - 0s 105us/step - loss: 0.1387 - accuracy: 0.8462\n",
      "Epoch 53/100\n",
      "169/169 [==============================] - 0s 116us/step - loss: 0.1383 - accuracy: 0.8462\n",
      "Epoch 54/100\n",
      "169/169 [==============================] - 0s 75us/step - loss: 0.1374 - accuracy: 0.8462\n",
      "Epoch 55/100\n",
      "169/169 [==============================] - 0s 100us/step - loss: 0.1359 - accuracy: 0.8521\n",
      "Epoch 56/100\n",
      "169/169 [==============================] - 0s 97us/step - loss: 0.1349 - accuracy: 0.8462\n",
      "Epoch 57/100\n",
      "169/169 [==============================] - 0s 100us/step - loss: 0.1336 - accuracy: 0.8521\n",
      "Epoch 58/100\n",
      "169/169 [==============================] - 0s 91us/step - loss: 0.1337 - accuracy: 0.8462\n",
      "Epoch 59/100\n",
      "169/169 [==============================] - 0s 94us/step - loss: 0.1319 - accuracy: 0.8521\n",
      "Epoch 60/100\n",
      "169/169 [==============================] - 0s 89us/step - loss: 0.1310 - accuracy: 0.8521\n",
      "Epoch 61/100\n",
      "169/169 [==============================] - 0s 96us/step - loss: 0.1309 - accuracy: 0.8521\n",
      "Epoch 62/100\n",
      "169/169 [==============================] - 0s 97us/step - loss: 0.1302 - accuracy: 0.8462\n",
      "Epoch 63/100\n",
      "169/169 [==============================] - 0s 90us/step - loss: 0.1294 - accuracy: 0.8521\n",
      "Epoch 64/100\n",
      "169/169 [==============================] - 0s 101us/step - loss: 0.1293 - accuracy: 0.8462\n",
      "Epoch 65/100\n",
      "169/169 [==============================] - 0s 112us/step - loss: 0.1276 - accuracy: 0.8580\n",
      "Epoch 66/100\n",
      "169/169 [==============================] - 0s 116us/step - loss: 0.1269 - accuracy: 0.8521\n",
      "Epoch 67/100\n",
      "169/169 [==============================] - 0s 122us/step - loss: 0.1264 - accuracy: 0.8521\n",
      "Epoch 68/100\n",
      "169/169 [==============================] - 0s 86us/step - loss: 0.1257 - accuracy: 0.8521\n",
      "Epoch 69/100\n",
      "169/169 [==============================] - 0s 95us/step - loss: 0.1264 - accuracy: 0.8521\n",
      "Epoch 70/100\n",
      "169/169 [==============================] - 0s 98us/step - loss: 0.1245 - accuracy: 0.8580\n",
      "Epoch 71/100\n",
      "169/169 [==============================] - 0s 127us/step - loss: 0.1249 - accuracy: 0.8521\n",
      "Epoch 72/100\n",
      "169/169 [==============================] - 0s 120us/step - loss: 0.1244 - accuracy: 0.8580\n",
      "Epoch 73/100\n",
      "169/169 [==============================] - 0s 84us/step - loss: 0.1231 - accuracy: 0.8639\n",
      "Epoch 74/100\n",
      "169/169 [==============================] - 0s 118us/step - loss: 0.1237 - accuracy: 0.8580\n",
      "Epoch 75/100\n",
      "169/169 [==============================] - 0s 109us/step - loss: 0.1226 - accuracy: 0.8580\n",
      "Epoch 76/100\n",
      "169/169 [==============================] - 0s 101us/step - loss: 0.1214 - accuracy: 0.8639\n",
      "Epoch 77/100\n",
      "169/169 [==============================] - 0s 76us/step - loss: 0.1215 - accuracy: 0.8521\n",
      "Epoch 78/100\n",
      "169/169 [==============================] - 0s 103us/step - loss: 0.1213 - accuracy: 0.8580\n",
      "Epoch 79/100\n",
      "169/169 [==============================] - 0s 89us/step - loss: 0.1217 - accuracy: 0.8521\n",
      "Epoch 80/100\n",
      "169/169 [==============================] - 0s 81us/step - loss: 0.1207 - accuracy: 0.8580\n",
      "Epoch 81/100\n",
      "169/169 [==============================] - 0s 83us/step - loss: 0.1194 - accuracy: 0.8580\n",
      "Epoch 82/100\n",
      "169/169 [==============================] - 0s 98us/step - loss: 0.1189 - accuracy: 0.8521\n",
      "Epoch 83/100\n",
      "169/169 [==============================] - 0s 96us/step - loss: 0.1189 - accuracy: 0.8580\n",
      "Epoch 84/100\n",
      "169/169 [==============================] - 0s 82us/step - loss: 0.1181 - accuracy: 0.8580\n",
      "Epoch 85/100\n",
      "169/169 [==============================] - 0s 91us/step - loss: 0.1190 - accuracy: 0.8521\n",
      "Epoch 86/100\n",
      "169/169 [==============================] - 0s 132us/step - loss: 0.1185 - accuracy: 0.8580\n",
      "Epoch 87/100\n",
      "169/169 [==============================] - 0s 110us/step - loss: 0.1179 - accuracy: 0.8580\n",
      "Epoch 88/100\n",
      "169/169 [==============================] - 0s 87us/step - loss: 0.1167 - accuracy: 0.8639\n",
      "Epoch 89/100\n",
      "169/169 [==============================] - 0s 98us/step - loss: 0.1159 - accuracy: 0.8639\n",
      "Epoch 90/100\n",
      "169/169 [==============================] - 0s 96us/step - loss: 0.1160 - accuracy: 0.8698\n",
      "Epoch 91/100\n",
      "169/169 [==============================] - 0s 91us/step - loss: 0.1157 - accuracy: 0.8580\n",
      "Epoch 92/100\n",
      "169/169 [==============================] - 0s 124us/step - loss: 0.1149 - accuracy: 0.8817\n",
      "Epoch 93/100\n",
      "169/169 [==============================] - 0s 70us/step - loss: 0.1158 - accuracy: 0.8462\n",
      "Epoch 94/100\n",
      "169/169 [==============================] - 0s 82us/step - loss: 0.1147 - accuracy: 0.8757\n",
      "Epoch 95/100\n",
      "169/169 [==============================] - 0s 76us/step - loss: 0.1140 - accuracy: 0.8580\n",
      "Epoch 96/100\n",
      "169/169 [==============================] - 0s 86us/step - loss: 0.1133 - accuracy: 0.8698\n",
      "Epoch 97/100\n",
      "169/169 [==============================] - 0s 93us/step - loss: 0.1135 - accuracy: 0.8876\n",
      "Epoch 98/100\n",
      "169/169 [==============================] - 0s 95us/step - loss: 0.1135 - accuracy: 0.8580\n",
      "Epoch 99/100\n",
      "169/169 [==============================] - 0s 99us/step - loss: 0.1127 - accuracy: 0.8817\n",
      "Epoch 100/100\n",
      "169/169 [==============================] - 0s 92us/step - loss: 0.1129 - accuracy: 0.8817\n",
      "DONE\n"
     ]
    }
   ],
   "source": [
    "from keras.wrappers.scikit_learn import KerasClassifier\n",
    "from sklearn.model_selection import GridSearchCV\n",
    "\n",
    "\n",
    "hyper_params_space = {\n",
    "        'lr': [0.1, 0.2, 0.3, 0.4, 0.5, 0.6],\n",
    "        'mom': [0.1, 0.2, 0.3, 0.5, 0.7, 0.8],\n",
    "        'act': ['sigmoid', 'relu']\n",
    "    },\n",
    "\n",
    "\n",
    "\n",
    "print('===================================')\n",
    "model = KerasClassifier(build_fn=create_modelCV, batch_size=25, epochs=100)\n",
    "mlpr = GridSearchCV( model\n",
    "                    , hyper_params_space, scoring=['accuracy'], refit='accuracy', cv=3, n_jobs=2)\n",
    "mlpr.fit(X_train2, y_train2)\n",
    "print(\"DONE\")\n",
    "resultGSCV=pd.DataFrame(mlpr.cv_results_)\n",
    "\n",
    "#\n",
    "\n",
    "\n"
   ]
  },
  {
   "cell_type": "code",
   "execution_count": 12,
   "metadata": {
    "scrolled": true
   },
   "outputs": [
    {
     "data": {
      "text/plain": [
       "{'act': 'relu', 'lr': 0.5, 'mom': 0.2}"
      ]
     },
     "execution_count": 12,
     "metadata": {},
     "output_type": "execute_result"
    }
   ],
   "source": [
    "mlpr.best_params_"
   ]
  },
  {
   "cell_type": "code",
   "execution_count": 13,
   "metadata": {},
   "outputs": [],
   "source": [
    "def create_modelOP():\n",
    "    # create model\n",
    "    model = Sequential()\n",
    "    model.add(Dense(4, input_dim=17, kernel_initializer=RandomUniform(minval=-0.1, maxval=0.1, seed=1), \n",
    "                    activation=mlpr.best_params_['act'],\n",
    "                   kernel_regularizer=l2(0.0001)))\n",
    "    model.add(Dense(1, activation='sigmoid'))\n",
    "    # Compile model\n",
    "    model.compile(loss='mean_squared_error', metrics=['accuracy'], \n",
    "                  optimizer= SGD(lr=mlpr.best_params_['lr'], momentum=mlpr.best_params_['mom']))\n",
    "    return model"
   ]
  },
  {
   "cell_type": "code",
   "execution_count": 14,
   "metadata": {
    "scrolled": true
   },
   "outputs": [
    {
     "name": "stdout",
     "output_type": "stream",
     "text": [
      "Train on 169 samples, validate on 432 samples\n",
      "Epoch 1/100\n",
      "169/169 [==============================] - 0s 733us/step - loss: 0.2387 - accuracy: 0.6095 - val_loss: 0.2232 - val_accuracy: 0.6713\n",
      "Epoch 2/100\n",
      "169/169 [==============================] - 0s 150us/step - loss: 0.2319 - accuracy: 0.6272 - val_loss: 0.2208 - val_accuracy: 0.6713\n",
      "Epoch 3/100\n",
      "169/169 [==============================] - 0s 174us/step - loss: 0.2280 - accuracy: 0.6213 - val_loss: 0.2217 - val_accuracy: 0.6644\n",
      "Epoch 4/100\n",
      "169/169 [==============================] - 0s 175us/step - loss: 0.2235 - accuracy: 0.6391 - val_loss: 0.2166 - val_accuracy: 0.6620\n",
      "Epoch 5/100\n",
      "169/169 [==============================] - 0s 157us/step - loss: 0.2139 - accuracy: 0.6568 - val_loss: 0.2048 - val_accuracy: 0.6667\n",
      "Epoch 6/100\n",
      "169/169 [==============================] - 0s 166us/step - loss: 0.2051 - accuracy: 0.6509 - val_loss: 0.1963 - val_accuracy: 0.6644\n",
      "Epoch 7/100\n",
      "169/169 [==============================] - 0s 152us/step - loss: 0.1953 - accuracy: 0.6864 - val_loss: 0.1914 - val_accuracy: 0.6898\n",
      "Epoch 8/100\n",
      "169/169 [==============================] - 0s 174us/step - loss: 0.1878 - accuracy: 0.6864 - val_loss: 0.1866 - val_accuracy: 0.7037\n",
      "Epoch 9/100\n",
      "169/169 [==============================] - 0s 159us/step - loss: 0.1801 - accuracy: 0.7515 - val_loss: 0.1818 - val_accuracy: 0.6759\n",
      "Epoch 10/100\n",
      "169/169 [==============================] - 0s 154us/step - loss: 0.1755 - accuracy: 0.7396 - val_loss: 0.1737 - val_accuracy: 0.6898\n",
      "Epoch 11/100\n",
      "169/169 [==============================] - 0s 151us/step - loss: 0.1649 - accuracy: 0.7633 - val_loss: 0.1661 - val_accuracy: 0.7500\n",
      "Epoch 12/100\n",
      "169/169 [==============================] - 0s 141us/step - loss: 0.1616 - accuracy: 0.7811 - val_loss: 0.1659 - val_accuracy: 0.7616\n",
      "Epoch 13/100\n",
      "169/169 [==============================] - 0s 170us/step - loss: 0.1544 - accuracy: 0.7988 - val_loss: 0.1604 - val_accuracy: 0.7662\n",
      "Epoch 14/100\n",
      "169/169 [==============================] - 0s 165us/step - loss: 0.1493 - accuracy: 0.7988 - val_loss: 0.1571 - val_accuracy: 0.7708\n",
      "Epoch 15/100\n",
      "169/169 [==============================] - 0s 191us/step - loss: 0.1478 - accuracy: 0.7988 - val_loss: 0.1543 - val_accuracy: 0.7824\n",
      "Epoch 16/100\n",
      "169/169 [==============================] - 0s 162us/step - loss: 0.1410 - accuracy: 0.7929 - val_loss: 0.1513 - val_accuracy: 0.7755\n",
      "Epoch 17/100\n",
      "169/169 [==============================] - 0s 142us/step - loss: 0.1363 - accuracy: 0.7988 - val_loss: 0.1442 - val_accuracy: 0.7963\n",
      "Epoch 18/100\n",
      "169/169 [==============================] - 0s 177us/step - loss: 0.1346 - accuracy: 0.8107 - val_loss: 0.1412 - val_accuracy: 0.7986\n",
      "Epoch 19/100\n",
      "169/169 [==============================] - 0s 139us/step - loss: 0.1288 - accuracy: 0.8107 - val_loss: 0.1377 - val_accuracy: 0.8056\n",
      "Epoch 20/100\n",
      "169/169 [==============================] - 0s 162us/step - loss: 0.1253 - accuracy: 0.8225 - val_loss: 0.1330 - val_accuracy: 0.8079\n",
      "Epoch 21/100\n",
      "169/169 [==============================] - 0s 143us/step - loss: 0.1195 - accuracy: 0.8166 - val_loss: 0.1298 - val_accuracy: 0.8218\n",
      "Epoch 22/100\n",
      "169/169 [==============================] - 0s 157us/step - loss: 0.1169 - accuracy: 0.8343 - val_loss: 0.1252 - val_accuracy: 0.8542\n",
      "Epoch 23/100\n",
      "169/169 [==============================] - 0s 163us/step - loss: 0.1103 - accuracy: 0.8876 - val_loss: 0.1197 - val_accuracy: 0.8704\n",
      "Epoch 24/100\n",
      "169/169 [==============================] - 0s 144us/step - loss: 0.1042 - accuracy: 0.8757 - val_loss: 0.1152 - val_accuracy: 0.8912\n",
      "Epoch 25/100\n",
      "169/169 [==============================] - 0s 187us/step - loss: 0.0984 - accuracy: 0.9231 - val_loss: 0.1098 - val_accuracy: 0.8727\n",
      "Epoch 26/100\n",
      "169/169 [==============================] - 0s 149us/step - loss: 0.0949 - accuracy: 0.9172 - val_loss: 0.1018 - val_accuracy: 0.9190\n",
      "Epoch 27/100\n",
      "169/169 [==============================] - 0s 175us/step - loss: 0.0861 - accuracy: 0.9408 - val_loss: 0.0910 - val_accuracy: 0.9282\n",
      "Epoch 28/100\n",
      "169/169 [==============================] - 0s 143us/step - loss: 0.0789 - accuracy: 0.9645 - val_loss: 0.0827 - val_accuracy: 0.9444\n",
      "Epoch 29/100\n",
      "169/169 [==============================] - 0s 151us/step - loss: 0.0717 - accuracy: 0.9645 - val_loss: 0.0753 - val_accuracy: 0.9606\n",
      "Epoch 30/100\n",
      "169/169 [==============================] - 0s 158us/step - loss: 0.0657 - accuracy: 0.9822 - val_loss: 0.0687 - val_accuracy: 0.9699\n",
      "Epoch 31/100\n",
      "169/169 [==============================] - 0s 164us/step - loss: 0.0610 - accuracy: 0.9822 - val_loss: 0.0652 - val_accuracy: 0.9722\n",
      "Epoch 32/100\n",
      "169/169 [==============================] - 0s 153us/step - loss: 0.0548 - accuracy: 0.9882 - val_loss: 0.0569 - val_accuracy: 0.9954\n",
      "Epoch 33/100\n",
      "169/169 [==============================] - 0s 155us/step - loss: 0.0502 - accuracy: 1.0000 - val_loss: 0.0499 - val_accuracy: 1.0000\n",
      "Epoch 34/100\n",
      "169/169 [==============================] - 0s 157us/step - loss: 0.0452 - accuracy: 1.0000 - val_loss: 0.0474 - val_accuracy: 1.0000\n",
      "Epoch 35/100\n",
      "169/169 [==============================] - 0s 139us/step - loss: 0.0428 - accuracy: 1.0000 - val_loss: 0.0410 - val_accuracy: 1.0000\n",
      "Epoch 36/100\n",
      "169/169 [==============================] - 0s 188us/step - loss: 0.0398 - accuracy: 1.0000 - val_loss: 0.0398 - val_accuracy: 1.0000\n",
      "Epoch 37/100\n",
      "169/169 [==============================] - 0s 172us/step - loss: 0.0348 - accuracy: 1.0000 - val_loss: 0.0336 - val_accuracy: 1.0000\n",
      "Epoch 38/100\n",
      "169/169 [==============================] - 0s 153us/step - loss: 0.0314 - accuracy: 1.0000 - val_loss: 0.0317 - val_accuracy: 1.0000\n",
      "Epoch 39/100\n",
      "169/169 [==============================] - 0s 177us/step - loss: 0.0283 - accuracy: 1.0000 - val_loss: 0.0274 - val_accuracy: 1.0000\n",
      "Epoch 40/100\n",
      "169/169 [==============================] - 0s 140us/step - loss: 0.0249 - accuracy: 1.0000 - val_loss: 0.0245 - val_accuracy: 1.0000\n",
      "Epoch 41/100\n",
      "169/169 [==============================] - 0s 196us/step - loss: 0.0223 - accuracy: 1.0000 - val_loss: 0.0218 - val_accuracy: 1.0000\n",
      "Epoch 42/100\n",
      "169/169 [==============================] - 0s 162us/step - loss: 0.0199 - accuracy: 1.0000 - val_loss: 0.0199 - val_accuracy: 1.0000\n",
      "Epoch 43/100\n",
      "169/169 [==============================] - 0s 139us/step - loss: 0.0183 - accuracy: 1.0000 - val_loss: 0.0183 - val_accuracy: 1.0000\n",
      "Epoch 44/100\n",
      "169/169 [==============================] - 0s 182us/step - loss: 0.0171 - accuracy: 1.0000 - val_loss: 0.0181 - val_accuracy: 1.0000\n",
      "Epoch 45/100\n",
      "169/169 [==============================] - 0s 145us/step - loss: 0.0156 - accuracy: 1.0000 - val_loss: 0.0156 - val_accuracy: 1.0000\n",
      "Epoch 46/100\n",
      "169/169 [==============================] - 0s 160us/step - loss: 0.0143 - accuracy: 1.0000 - val_loss: 0.0145 - val_accuracy: 1.0000\n",
      "Epoch 47/100\n",
      "169/169 [==============================] - 0s 146us/step - loss: 0.0133 - accuracy: 1.0000 - val_loss: 0.0139 - val_accuracy: 1.0000\n",
      "Epoch 48/100\n",
      "169/169 [==============================] - 0s 158us/step - loss: 0.0125 - accuracy: 1.0000 - val_loss: 0.0128 - val_accuracy: 1.0000\n",
      "Epoch 49/100\n",
      "169/169 [==============================] - 0s 152us/step - loss: 0.0118 - accuracy: 1.0000 - val_loss: 0.0121 - val_accuracy: 1.0000\n",
      "Epoch 50/100\n",
      "169/169 [==============================] - 0s 140us/step - loss: 0.0112 - accuracy: 1.0000 - val_loss: 0.0115 - val_accuracy: 1.0000\n",
      "Epoch 51/100\n",
      "169/169 [==============================] - 0s 186us/step - loss: 0.0105 - accuracy: 1.0000 - val_loss: 0.0108 - val_accuracy: 1.0000\n",
      "Epoch 52/100\n",
      "169/169 [==============================] - 0s 148us/step - loss: 0.0101 - accuracy: 1.0000 - val_loss: 0.0103 - val_accuracy: 1.0000\n",
      "Epoch 53/100\n",
      "169/169 [==============================] - 0s 188us/step - loss: 0.0096 - accuracy: 1.0000 - val_loss: 0.0101 - val_accuracy: 1.0000\n",
      "Epoch 54/100\n",
      "169/169 [==============================] - 0s 162us/step - loss: 0.0093 - accuracy: 1.0000 - val_loss: 0.0096 - val_accuracy: 1.0000\n",
      "Epoch 55/100\n",
      "169/169 [==============================] - 0s 141us/step - loss: 0.0089 - accuracy: 1.0000 - val_loss: 0.0091 - val_accuracy: 1.0000\n",
      "Epoch 56/100\n",
      "169/169 [==============================] - 0s 161us/step - loss: 0.0086 - accuracy: 1.0000 - val_loss: 0.0087 - val_accuracy: 1.0000\n"
     ]
    },
    {
     "name": "stdout",
     "output_type": "stream",
     "text": [
      "Epoch 57/100\n",
      "169/169 [==============================] - 0s 156us/step - loss: 0.0083 - accuracy: 1.0000 - val_loss: 0.0085 - val_accuracy: 1.0000\n",
      "Epoch 58/100\n",
      "169/169 [==============================] - 0s 161us/step - loss: 0.0079 - accuracy: 1.0000 - val_loss: 0.0082 - val_accuracy: 1.0000\n",
      "Epoch 59/100\n",
      "169/169 [==============================] - 0s 140us/step - loss: 0.0077 - accuracy: 1.0000 - val_loss: 0.0079 - val_accuracy: 1.0000\n",
      "Epoch 60/100\n",
      "169/169 [==============================] - 0s 179us/step - loss: 0.0074 - accuracy: 1.0000 - val_loss: 0.0077 - val_accuracy: 1.0000\n",
      "Epoch 61/100\n",
      "169/169 [==============================] - 0s 153us/step - loss: 0.0073 - accuracy: 1.0000 - val_loss: 0.0075 - val_accuracy: 1.0000\n",
      "Epoch 62/100\n",
      "169/169 [==============================] - 0s 165us/step - loss: 0.0070 - accuracy: 1.0000 - val_loss: 0.0072 - val_accuracy: 1.0000\n",
      "Epoch 63/100\n",
      "169/169 [==============================] - 0s 162us/step - loss: 0.0069 - accuracy: 1.0000 - val_loss: 0.0071 - val_accuracy: 1.0000\n",
      "Epoch 64/100\n",
      "169/169 [==============================] - 0s 144us/step - loss: 0.0067 - accuracy: 1.0000 - val_loss: 0.0070 - val_accuracy: 1.0000\n",
      "Epoch 65/100\n",
      "169/169 [==============================] - 0s 171us/step - loss: 0.0066 - accuracy: 1.0000 - val_loss: 0.0068 - val_accuracy: 1.0000\n",
      "Epoch 66/100\n",
      "169/169 [==============================] - 0s 138us/step - loss: 0.0064 - accuracy: 1.0000 - val_loss: 0.0066 - val_accuracy: 1.0000\n",
      "Epoch 67/100\n",
      "169/169 [==============================] - 0s 194us/step - loss: 0.0063 - accuracy: 1.0000 - val_loss: 0.0065 - val_accuracy: 1.0000\n",
      "Epoch 68/100\n",
      "169/169 [==============================] - 0s 161us/step - loss: 0.0062 - accuracy: 1.0000 - val_loss: 0.0064 - val_accuracy: 1.0000\n",
      "Epoch 69/100\n",
      "169/169 [==============================] - 0s 157us/step - loss: 0.0060 - accuracy: 1.0000 - val_loss: 0.0062 - val_accuracy: 1.0000\n",
      "Epoch 70/100\n",
      "169/169 [==============================] - 0s 163us/step - loss: 0.0059 - accuracy: 1.0000 - val_loss: 0.0061 - val_accuracy: 1.0000\n",
      "Epoch 71/100\n",
      "169/169 [==============================] - 0s 139us/step - loss: 0.0058 - accuracy: 1.0000 - val_loss: 0.0060 - val_accuracy: 1.0000\n",
      "Epoch 72/100\n",
      "169/169 [==============================] - 0s 166us/step - loss: 0.0057 - accuracy: 1.0000 - val_loss: 0.0060 - val_accuracy: 1.0000\n",
      "Epoch 73/100\n",
      "169/169 [==============================] - 0s 144us/step - loss: 0.0056 - accuracy: 1.0000 - val_loss: 0.0058 - val_accuracy: 1.0000\n",
      "Epoch 74/100\n",
      "169/169 [==============================] - 0s 173us/step - loss: 0.0055 - accuracy: 1.0000 - val_loss: 0.0057 - val_accuracy: 1.0000\n",
      "Epoch 75/100\n",
      "169/169 [==============================] - 0s 160us/step - loss: 0.0054 - accuracy: 1.0000 - val_loss: 0.0057 - val_accuracy: 1.0000\n",
      "Epoch 76/100\n",
      "169/169 [==============================] - 0s 145us/step - loss: 0.0054 - accuracy: 1.0000 - val_loss: 0.0055 - val_accuracy: 1.0000\n",
      "Epoch 77/100\n",
      "169/169 [==============================] - 0s 162us/step - loss: 0.0053 - accuracy: 1.0000 - val_loss: 0.0055 - val_accuracy: 1.0000\n",
      "Epoch 78/100\n",
      "169/169 [==============================] - 0s 151us/step - loss: 0.0052 - accuracy: 1.0000 - val_loss: 0.0054 - val_accuracy: 1.0000\n",
      "Epoch 79/100\n",
      "169/169 [==============================] - 0s 233us/step - loss: 0.0052 - accuracy: 1.0000 - val_loss: 0.0053 - val_accuracy: 1.0000\n",
      "Epoch 80/100\n",
      "169/169 [==============================] - 0s 236us/step - loss: 0.0051 - accuracy: 1.0000 - val_loss: 0.0052 - val_accuracy: 1.0000\n",
      "Epoch 81/100\n",
      "169/169 [==============================] - 0s 268us/step - loss: 0.0050 - accuracy: 1.0000 - val_loss: 0.0052 - val_accuracy: 1.0000\n",
      "Epoch 82/100\n",
      "169/169 [==============================] - 0s 251us/step - loss: 0.0050 - accuracy: 1.0000 - val_loss: 0.0051 - val_accuracy: 1.0000\n",
      "Epoch 83/100\n",
      "169/169 [==============================] - 0s 233us/step - loss: 0.0049 - accuracy: 1.0000 - val_loss: 0.0050 - val_accuracy: 1.0000\n",
      "Epoch 84/100\n",
      "169/169 [==============================] - 0s 221us/step - loss: 0.0049 - accuracy: 1.0000 - val_loss: 0.0050 - val_accuracy: 1.0000\n",
      "Epoch 85/100\n",
      "169/169 [==============================] - 0s 147us/step - loss: 0.0048 - accuracy: 1.0000 - val_loss: 0.0050 - val_accuracy: 1.0000\n",
      "Epoch 86/100\n",
      "169/169 [==============================] - 0s 173us/step - loss: 0.0048 - accuracy: 1.0000 - val_loss: 0.0049 - val_accuracy: 1.0000\n",
      "Epoch 87/100\n",
      "169/169 [==============================] - 0s 139us/step - loss: 0.0047 - accuracy: 1.0000 - val_loss: 0.0049 - val_accuracy: 1.0000\n",
      "Epoch 88/100\n",
      "169/169 [==============================] - 0s 147us/step - loss: 0.0047 - accuracy: 1.0000 - val_loss: 0.0048 - val_accuracy: 1.0000\n",
      "Epoch 89/100\n",
      "169/169 [==============================] - 0s 144us/step - loss: 0.0047 - accuracy: 1.0000 - val_loss: 0.0048 - val_accuracy: 1.0000\n",
      "Epoch 90/100\n",
      "169/169 [==============================] - 0s 153us/step - loss: 0.0046 - accuracy: 1.0000 - val_loss: 0.0047 - val_accuracy: 1.0000\n",
      "Epoch 91/100\n",
      "169/169 [==============================] - 0s 144us/step - loss: 0.0046 - accuracy: 1.0000 - val_loss: 0.0047 - val_accuracy: 1.0000\n",
      "Epoch 92/100\n",
      "169/169 [==============================] - 0s 148us/step - loss: 0.0046 - accuracy: 1.0000 - val_loss: 0.0046 - val_accuracy: 1.0000\n",
      "Epoch 93/100\n",
      "169/169 [==============================] - 0s 156us/step - loss: 0.0045 - accuracy: 1.0000 - val_loss: 0.0046 - val_accuracy: 1.0000\n",
      "Epoch 94/100\n",
      "169/169 [==============================] - 0s 141us/step - loss: 0.0045 - accuracy: 1.0000 - val_loss: 0.0046 - val_accuracy: 1.0000\n",
      "Epoch 95/100\n",
      "169/169 [==============================] - 0s 176us/step - loss: 0.0044 - accuracy: 1.0000 - val_loss: 0.0045 - val_accuracy: 1.0000\n",
      "Epoch 96/100\n",
      "169/169 [==============================] - 0s 148us/step - loss: 0.0044 - accuracy: 1.0000 - val_loss: 0.0045 - val_accuracy: 1.0000\n",
      "Epoch 97/100\n",
      "169/169 [==============================] - 0s 157us/step - loss: 0.0044 - accuracy: 1.0000 - val_loss: 0.0045 - val_accuracy: 1.0000\n",
      "Epoch 98/100\n",
      "169/169 [==============================] - 0s 145us/step - loss: 0.0043 - accuracy: 1.0000 - val_loss: 0.0045 - val_accuracy: 1.0000\n",
      "Epoch 99/100\n",
      "169/169 [==============================] - 0s 156us/step - loss: 0.0043 - accuracy: 1.0000 - val_loss: 0.0044 - val_accuracy: 1.0000\n",
      "Epoch 100/100\n",
      "169/169 [==============================] - 0s 137us/step - loss: 0.0043 - accuracy: 1.0000 - val_loss: 0.0044 - val_accuracy: 1.0000\n"
     ]
    }
   ],
   "source": [
    "#instantiate the model and run it\n",
    "#es = EarlyStopping(monitor='val_loss', patience=30)\n",
    "#mc = ModelCheckpoint('best_model_NOREG.h5', monitor='val_loss', save_best_only=True)\n",
    "\n",
    "model1 = create_modelOP()\n",
    "\n",
    "history1 = model1.fit(X_train2, y_train2, \n",
    "                      validation_data=(X_test2, y_test2), \n",
    "                      epochs=100, \n",
    "                      batch_size=25, \n",
    "                      #callbacks=[es,mc]\n",
    "                     ).history"
   ]
  },
  {
   "cell_type": "code",
   "execution_count": 21,
   "metadata": {},
   "outputs": [
    {
     "data": {
      "image/png": "[encoded data removed]",
      "text/plain": [
       "<Figure size 360x360 with 1 Axes>"
      ]
     },
     "metadata": {
      "needs_background": "light"
     },
     "output_type": "display_data"
    }
   ],
   "source": [
    "#See if we have overfitting\n",
    "plt.figure(figsize=(5,5))\n",
    "plt.plot(history1['loss'], label='MSE')\n",
    "plt.plot(history1['accuracy'], label='Accuracy', linestyle='dashed')\n",
    "#plt.plot(history1['val_loss'], label='Test')\n",
    "#plt.title('Learning curves for training', fontsize = 18)\n",
    "plt.xlabel('Epochs')\n",
    "plt.ylabel('MSE')\n",
    "plt.legend()\n",
    "plt.show()"
   ]
  },
  {
   "cell_type": "code",
   "execution_count": 22,
   "metadata": {},
   "outputs": [
    {
     "data": {
      "image/png": "[encoded data removed]",
      "text/plain": [
       "<Figure size 360x360 with 1 Axes>"
      ]
     },
     "metadata": {
      "needs_background": "light"
     },
     "output_type": "display_data"
    }
   ],
   "source": [
    "#See if we have overfitting\n",
    "plt.figure(figsize=(5,5))\n",
    "plt.plot(history1['val_loss'], label='MSE')\n",
    "plt.plot(history1['val_accuracy'], label='Accuracy', linestyle='dashed')\n",
    "#plt.plot(history1['val_loss'], label='Test')\n",
    "#plt.title('Learning curves for test', fontsize = 18)\n",
    "plt.xlabel('Epochs')\n",
    "plt.ylabel('MSE')\n",
    "plt.legend()\n",
    "plt.show()"
   ]
  },
  {
   "cell_type": "code",
   "execution_count": 17,
   "metadata": {},
   "outputs": [
    {
     "name": "stdout",
     "output_type": "stream",
     "text": [
      "432/432 [==============================] - 0s 27us/step\n"
     ]
    }
   ],
   "source": [
    "mse, accuracy = model1.evaluate(X_test2, y_test2)"
   ]
  },
  {
   "cell_type": "code",
   "execution_count": 18,
   "metadata": {},
   "outputs": [
    {
     "name": "stdout",
     "output_type": "stream",
     "text": [
      "Accuracy on Test 1.0\n",
      "MSE on Test 0.004396483560817109\n"
     ]
    }
   ],
   "source": [
    "print(\"Accuracy on Test\", accuracy)\n",
    "print(\"MSE on Test\", mse)"
   ]
  },
  {
   "cell_type": "code",
   "execution_count": 19,
   "metadata": {},
   "outputs": [
    {
     "name": "stdout",
     "output_type": "stream",
     "text": [
      "169/169 [==============================] - 0s 50us/step\n"
     ]
    }
   ],
   "source": [
    "mse_tr, accuracy_tr = model1.evaluate(X_train2, y_train2)"
   ]
  },
  {
   "cell_type": "code",
   "execution_count": 20,
   "metadata": {},
   "outputs": [
    {
     "name": "stdout",
     "output_type": "stream",
     "text": [
      "Accuracy on Training 1.0\n",
      "MSE on Training 0.004297534670658718\n"
     ]
    }
   ],
   "source": [
    "print(\"Accuracy on Training\", accuracy_tr)\n",
    "print(\"MSE on Training\", mse_tr)"
   ]
  }
 ],
 "metadata": {
  "kernelspec": {
   "display_name": "Python 3 (ipykernel)",
   "language": "python",
   "name": "python3"
  },
  "language_info": {
   "codemirror_mode": {
    "name": "ipython",
    "version": 3
   },
   "file_extension": ".py",
   "mimetype": "text/x-python",
   "name": "python",
   "nbconvert_exporter": "python",
   "pygments_lexer": "ipython3",
   "version": "3.9.7"
  }
 },
 "nbformat": 4,
 "nbformat_minor": 4
}
